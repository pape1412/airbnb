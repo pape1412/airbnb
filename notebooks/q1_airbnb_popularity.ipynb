{
 "cells": [
  {
   "cell_type": "markdown",
   "metadata": {},
   "source": [
    "# Question 1: What are the most popular Airbnb locations in Berlin?\n",
    "The first question around the Airbnb Berlin data set is about identifying __areas of the city that are more popular than others__. The results may work as __guidance__ for people who are interested in __renting out apartments__ either privately or professionally.\n",
    "\n",
    "The __five steps__ involved in this notebook are as follows:\n",
    "* 1 - Load libraries\n",
    "* 2 - Import & understand data\n",
    "* 3 - Pre-process data\n",
    "* 4 - Model data\n",
    "* 5 - Analyze data & evaluate results"
   ]
  },
  {
   "cell_type": "markdown",
   "metadata": {},
   "source": [
    "## 1 - Load Libraries"
   ]
  },
  {
   "cell_type": "code",
   "execution_count": 137,
   "metadata": {},
   "outputs": [],
   "source": [
    "import numpy as np\n",
    "import pandas as pd\n",
    "import matplotlib.pyplot as plt\n",
    "import seaborn as sns\n",
    "\n",
    "%matplotlib inline"
   ]
  },
  {
   "cell_type": "markdown",
   "metadata": {},
   "source": [
    "## 2 - Import & Understand Data"
   ]
  },
  {
   "cell_type": "code",
   "execution_count": 138,
   "metadata": {},
   "outputs": [
    {
     "name": "stdout",
     "output_type": "stream",
     "text": [
      "(22572, 96)\n"
     ]
    },
    {
     "data": {
      "text/html": [
       "<div>\n",
       "<style scoped>\n",
       "    .dataframe tbody tr th:only-of-type {\n",
       "        vertical-align: middle;\n",
       "    }\n",
       "\n",
       "    .dataframe tbody tr th {\n",
       "        vertical-align: top;\n",
       "    }\n",
       "\n",
       "    .dataframe thead th {\n",
       "        text-align: right;\n",
       "    }\n",
       "</style>\n",
       "<table border=\"1\" class=\"dataframe\">\n",
       "  <thead>\n",
       "    <tr style=\"text-align: right;\">\n",
       "      <th></th>\n",
       "      <th>id</th>\n",
       "      <th>listing_url</th>\n",
       "      <th>scrape_id</th>\n",
       "      <th>last_scraped</th>\n",
       "      <th>name</th>\n",
       "      <th>summary</th>\n",
       "      <th>space</th>\n",
       "      <th>description</th>\n",
       "      <th>experiences_offered</th>\n",
       "      <th>neighborhood_overview</th>\n",
       "      <th>notes</th>\n",
       "      <th>transit</th>\n",
       "      <th>access</th>\n",
       "      <th>interaction</th>\n",
       "      <th>house_rules</th>\n",
       "      <th>thumbnail_url</th>\n",
       "      <th>medium_url</th>\n",
       "      <th>picture_url</th>\n",
       "      <th>xl_picture_url</th>\n",
       "      <th>host_id</th>\n",
       "      <th>host_url</th>\n",
       "      <th>host_name</th>\n",
       "      <th>host_since</th>\n",
       "      <th>host_location</th>\n",
       "      <th>host_about</th>\n",
       "      <th>host_response_time</th>\n",
       "      <th>host_response_rate</th>\n",
       "      <th>host_acceptance_rate</th>\n",
       "      <th>host_is_superhost</th>\n",
       "      <th>host_thumbnail_url</th>\n",
       "      <th>host_picture_url</th>\n",
       "      <th>host_neighbourhood</th>\n",
       "      <th>host_listings_count</th>\n",
       "      <th>host_total_listings_count</th>\n",
       "      <th>host_verifications</th>\n",
       "      <th>host_has_profile_pic</th>\n",
       "      <th>host_identity_verified</th>\n",
       "      <th>street</th>\n",
       "      <th>neighbourhood</th>\n",
       "      <th>neighbourhood_cleansed</th>\n",
       "      <th>neighbourhood_group_cleansed</th>\n",
       "      <th>city</th>\n",
       "      <th>state</th>\n",
       "      <th>zipcode</th>\n",
       "      <th>market</th>\n",
       "      <th>smart_location</th>\n",
       "      <th>country_code</th>\n",
       "      <th>country</th>\n",
       "      <th>latitude</th>\n",
       "      <th>longitude</th>\n",
       "      <th>is_location_exact</th>\n",
       "      <th>property_type</th>\n",
       "      <th>room_type</th>\n",
       "      <th>accommodates</th>\n",
       "      <th>bathrooms</th>\n",
       "      <th>bedrooms</th>\n",
       "      <th>beds</th>\n",
       "      <th>bed_type</th>\n",
       "      <th>amenities</th>\n",
       "      <th>square_feet</th>\n",
       "      <th>price</th>\n",
       "      <th>weekly_price</th>\n",
       "      <th>monthly_price</th>\n",
       "      <th>security_deposit</th>\n",
       "      <th>cleaning_fee</th>\n",
       "      <th>guests_included</th>\n",
       "      <th>extra_people</th>\n",
       "      <th>minimum_nights</th>\n",
       "      <th>maximum_nights</th>\n",
       "      <th>calendar_updated</th>\n",
       "      <th>has_availability</th>\n",
       "      <th>availability_30</th>\n",
       "      <th>availability_60</th>\n",
       "      <th>availability_90</th>\n",
       "      <th>availability_365</th>\n",
       "      <th>calendar_last_scraped</th>\n",
       "      <th>number_of_reviews</th>\n",
       "      <th>first_review</th>\n",
       "      <th>last_review</th>\n",
       "      <th>review_scores_rating</th>\n",
       "      <th>review_scores_accuracy</th>\n",
       "      <th>review_scores_cleanliness</th>\n",
       "      <th>review_scores_checkin</th>\n",
       "      <th>review_scores_communication</th>\n",
       "      <th>review_scores_location</th>\n",
       "      <th>review_scores_value</th>\n",
       "      <th>requires_license</th>\n",
       "      <th>license</th>\n",
       "      <th>jurisdiction_names</th>\n",
       "      <th>instant_bookable</th>\n",
       "      <th>is_business_travel_ready</th>\n",
       "      <th>cancellation_policy</th>\n",
       "      <th>require_guest_profile_picture</th>\n",
       "      <th>require_guest_phone_verification</th>\n",
       "      <th>calculated_host_listings_count</th>\n",
       "      <th>reviews_per_month</th>\n",
       "    </tr>\n",
       "  </thead>\n",
       "  <tbody>\n",
       "    <tr>\n",
       "      <th>0</th>\n",
       "      <td>2015</td>\n",
       "      <td>https://www.airbnb.com/rooms/2015</td>\n",
       "      <td>20180912025131</td>\n",
       "      <td>2018-09-12</td>\n",
       "      <td>Berlin-Mitte Value! Quiet courtyard/very central</td>\n",
       "      <td>Great location!  30 of 75 sq meters. This wood...</td>\n",
       "      <td>A+++ location! This „Einliegerwohnung“ is an e...</td>\n",
       "      <td>Great location!  30 of 75 sq meters. This wood...</td>\n",
       "      <td>none</td>\n",
       "      <td>It is located in the former East Berlin area o...</td>\n",
       "      <td>This is my home, not a hotel. I rent out occas...</td>\n",
       "      <td>Close to U-Bahn U8 and U2 (metro), Trams M12, ...</td>\n",
       "      <td>Simple kitchen/cooking, refrigerator, microwav...</td>\n",
       "      <td>Always available</td>\n",
       "      <td>No parties No events No pets No smoking, not e...</td>\n",
       "      <td>NaN</td>\n",
       "      <td>NaN</td>\n",
       "      <td>https://a0.muscache.com/im/pictures/260fd609-7...</td>\n",
       "      <td>NaN</td>\n",
       "      <td>2217</td>\n",
       "      <td>https://www.airbnb.com/users/show/2217</td>\n",
       "      <td>Ian</td>\n",
       "      <td>2008-08-18</td>\n",
       "      <td>Key Biscayne, Florida, United States</td>\n",
       "      <td>Believe in sharing economy.</td>\n",
       "      <td>within an hour</td>\n",
       "      <td>100%</td>\n",
       "      <td>NaN</td>\n",
       "      <td>t</td>\n",
       "      <td>https://a0.muscache.com/im/pictures/21428a22-4...</td>\n",
       "      <td>https://a0.muscache.com/im/pictures/21428a22-4...</td>\n",
       "      <td>Mitte</td>\n",
       "      <td>3.0</td>\n",
       "      <td>3.0</td>\n",
       "      <td>['email', 'phone', 'reviews', 'jumio', 'offlin...</td>\n",
       "      <td>t</td>\n",
       "      <td>t</td>\n",
       "      <td>Berlin, Berlin, Germany</td>\n",
       "      <td>Mitte</td>\n",
       "      <td>Brunnenstr. Süd</td>\n",
       "      <td>Mitte</td>\n",
       "      <td>Berlin</td>\n",
       "      <td>Berlin</td>\n",
       "      <td>10119</td>\n",
       "      <td>Berlin</td>\n",
       "      <td>Berlin, Germany</td>\n",
       "      <td>DE</td>\n",
       "      <td>Germany</td>\n",
       "      <td>52.534537</td>\n",
       "      <td>13.402557</td>\n",
       "      <td>f</td>\n",
       "      <td>Guesthouse</td>\n",
       "      <td>Entire home/apt</td>\n",
       "      <td>3</td>\n",
       "      <td>1.0</td>\n",
       "      <td>1.0</td>\n",
       "      <td>2.0</td>\n",
       "      <td>Real Bed</td>\n",
       "      <td>{TV,\"Cable TV\",Wifi,Kitchen,Gym,Heating,\"Famil...</td>\n",
       "      <td>NaN</td>\n",
       "      <td>$60.00</td>\n",
       "      <td>NaN</td>\n",
       "      <td>NaN</td>\n",
       "      <td>$200.00</td>\n",
       "      <td>$30.00</td>\n",
       "      <td>1</td>\n",
       "      <td>$28.00</td>\n",
       "      <td>4</td>\n",
       "      <td>1125</td>\n",
       "      <td>6 weeks ago</td>\n",
       "      <td>t</td>\n",
       "      <td>5</td>\n",
       "      <td>34</td>\n",
       "      <td>64</td>\n",
       "      <td>154</td>\n",
       "      <td>2018-09-12</td>\n",
       "      <td>109</td>\n",
       "      <td>2016-04-11</td>\n",
       "      <td>2018-09-08</td>\n",
       "      <td>92.0</td>\n",
       "      <td>9.0</td>\n",
       "      <td>9.0</td>\n",
       "      <td>10.0</td>\n",
       "      <td>10.0</td>\n",
       "      <td>10.0</td>\n",
       "      <td>9.0</td>\n",
       "      <td>t</td>\n",
       "      <td>NaN</td>\n",
       "      <td>NaN</td>\n",
       "      <td>f</td>\n",
       "      <td>f</td>\n",
       "      <td>strict_14_with_grace_period</td>\n",
       "      <td>f</td>\n",
       "      <td>f</td>\n",
       "      <td>3</td>\n",
       "      <td>3.69</td>\n",
       "    </tr>\n",
       "  </tbody>\n",
       "</table>\n",
       "</div>"
      ],
      "text/plain": [
       "     id                        listing_url       scrape_id last_scraped  \\\n",
       "0  2015  https://www.airbnb.com/rooms/2015  20180912025131   2018-09-12   \n",
       "\n",
       "                                               name  \\\n",
       "0  Berlin-Mitte Value! Quiet courtyard/very central   \n",
       "\n",
       "                                             summary  \\\n",
       "0  Great location!  30 of 75 sq meters. This wood...   \n",
       "\n",
       "                                               space  \\\n",
       "0  A+++ location! This „Einliegerwohnung“ is an e...   \n",
       "\n",
       "                                         description experiences_offered  \\\n",
       "0  Great location!  30 of 75 sq meters. This wood...                none   \n",
       "\n",
       "                               neighborhood_overview  \\\n",
       "0  It is located in the former East Berlin area o...   \n",
       "\n",
       "                                               notes  \\\n",
       "0  This is my home, not a hotel. I rent out occas...   \n",
       "\n",
       "                                             transit  \\\n",
       "0  Close to U-Bahn U8 and U2 (metro), Trams M12, ...   \n",
       "\n",
       "                                              access       interaction  \\\n",
       "0  Simple kitchen/cooking, refrigerator, microwav...  Always available   \n",
       "\n",
       "                                         house_rules  thumbnail_url  \\\n",
       "0  No parties No events No pets No smoking, not e...            NaN   \n",
       "\n",
       "   medium_url                                        picture_url  \\\n",
       "0         NaN  https://a0.muscache.com/im/pictures/260fd609-7...   \n",
       "\n",
       "   xl_picture_url  host_id                                host_url host_name  \\\n",
       "0             NaN     2217  https://www.airbnb.com/users/show/2217       Ian   \n",
       "\n",
       "   host_since                         host_location  \\\n",
       "0  2008-08-18  Key Biscayne, Florida, United States   \n",
       "\n",
       "                    host_about host_response_time host_response_rate  \\\n",
       "0  Believe in sharing economy.     within an hour               100%   \n",
       "\n",
       "   host_acceptance_rate host_is_superhost  \\\n",
       "0                   NaN                 t   \n",
       "\n",
       "                                  host_thumbnail_url  \\\n",
       "0  https://a0.muscache.com/im/pictures/21428a22-4...   \n",
       "\n",
       "                                    host_picture_url host_neighbourhood  \\\n",
       "0  https://a0.muscache.com/im/pictures/21428a22-4...              Mitte   \n",
       "\n",
       "   host_listings_count  host_total_listings_count  \\\n",
       "0                  3.0                        3.0   \n",
       "\n",
       "                                  host_verifications host_has_profile_pic  \\\n",
       "0  ['email', 'phone', 'reviews', 'jumio', 'offlin...                    t   \n",
       "\n",
       "  host_identity_verified                   street neighbourhood  \\\n",
       "0                      t  Berlin, Berlin, Germany         Mitte   \n",
       "\n",
       "  neighbourhood_cleansed neighbourhood_group_cleansed    city   state zipcode  \\\n",
       "0        Brunnenstr. Süd                        Mitte  Berlin  Berlin   10119   \n",
       "\n",
       "   market   smart_location country_code  country   latitude  longitude  \\\n",
       "0  Berlin  Berlin, Germany           DE  Germany  52.534537  13.402557   \n",
       "\n",
       "  is_location_exact property_type        room_type  accommodates  bathrooms  \\\n",
       "0                 f    Guesthouse  Entire home/apt             3        1.0   \n",
       "\n",
       "   bedrooms  beds  bed_type  \\\n",
       "0       1.0   2.0  Real Bed   \n",
       "\n",
       "                                           amenities  square_feet   price  \\\n",
       "0  {TV,\"Cable TV\",Wifi,Kitchen,Gym,Heating,\"Famil...          NaN  $60.00   \n",
       "\n",
       "  weekly_price monthly_price security_deposit cleaning_fee  guests_included  \\\n",
       "0          NaN           NaN          $200.00       $30.00                1   \n",
       "\n",
       "  extra_people  minimum_nights  maximum_nights calendar_updated  \\\n",
       "0       $28.00               4            1125      6 weeks ago   \n",
       "\n",
       "  has_availability  availability_30  availability_60  availability_90  \\\n",
       "0                t                5               34               64   \n",
       "\n",
       "   availability_365 calendar_last_scraped  number_of_reviews first_review  \\\n",
       "0               154            2018-09-12                109   2016-04-11   \n",
       "\n",
       "  last_review  review_scores_rating  review_scores_accuracy  \\\n",
       "0  2018-09-08                  92.0                     9.0   \n",
       "\n",
       "   review_scores_cleanliness  review_scores_checkin  \\\n",
       "0                        9.0                   10.0   \n",
       "\n",
       "   review_scores_communication  review_scores_location  review_scores_value  \\\n",
       "0                         10.0                    10.0                  9.0   \n",
       "\n",
       "  requires_license license  jurisdiction_names instant_bookable  \\\n",
       "0                t     NaN                 NaN                f   \n",
       "\n",
       "  is_business_travel_ready          cancellation_policy  \\\n",
       "0                        f  strict_14_with_grace_period   \n",
       "\n",
       "  require_guest_profile_picture require_guest_phone_verification  \\\n",
       "0                             f                                f   \n",
       "\n",
       "   calculated_host_listings_count  reviews_per_month  \n",
       "0                               3               3.69  "
      ]
     },
     "execution_count": 138,
     "metadata": {},
     "output_type": "execute_result"
    }
   ],
   "source": [
    "# Import listings data (Source: http://insideairbnb.com/get-the-data.html)\n",
    "df_listings = pd.read_csv('../data/listings_berlin.csv')\n",
    "\n",
    "# Preview data\n",
    "print(df_listings.shape)\n",
    "pd.options.display.max_columns = None\n",
    "df_listings.head(1)"
   ]
  },
  {
   "cell_type": "markdown",
   "metadata": {},
   "source": [
    "### 2.1 - Overview\n",
    "There are multiple columns in the data set that appear to be very useful for answering the question posed at the beginning of this notebook. However, before comparing different areas of Berlin with each other it's important to __define the term \"popularity\"__. In particular, the popularity of an area is influenced by __two main features__, whereas an increase in each of them increases popularity and vice versa. These feature are:\n",
    "\n",
    "* The __number of apartments__\n",
    "* The __occupancy of apartments__\n",
    "\n",
    "__Attributes__ in the Airbnb data set that can be used to __estimate__ the popularity of different areas are:\n",
    "* neighbourhood_group_cleansed\n",
    "* minimum_nights, reviews_per_month"
   ]
  },
  {
   "cell_type": "markdown",
   "metadata": {},
   "source": [
    "## 3 - Pre-Process Data"
   ]
  },
  {
   "cell_type": "markdown",
   "metadata": {},
   "source": [
    "Before starting to model the data it's important to pay close attention to the columns that need to be used and pre-process them or the data set where necessary."
   ]
  },
  {
   "cell_type": "markdown",
   "metadata": {},
   "source": [
    "### 3.1 - Property Types"
   ]
  },
  {
   "cell_type": "code",
   "execution_count": 139,
   "metadata": {},
   "outputs": [
    {
     "name": "stdout",
     "output_type": "stream",
     "text": [
      "Apartment             0.900097\n",
      "Condominium           0.026715\n",
      "Loft                  0.018740\n",
      "House                 0.018120\n",
      "Serviced apartment    0.008462\n",
      "Name: property_type, dtype: float64\n",
      "\n",
      "There are 33 unique property types within the data set.\n"
     ]
    }
   ],
   "source": [
    "# Check distriution of property types\n",
    "property_count = df_listings[\"property_type\"].value_counts().sum()\n",
    "print((df_listings[\"property_type\"].value_counts().sort_values(ascending=False) / property_count).head())\n",
    "\n",
    "# Number of unique property types\n",
    "print(\"\\nThere are {} unique property types within the data set.\".format(len(df_listings[\"property_type\"].unique())))"
   ]
  },
  {
   "cell_type": "markdown",
   "metadata": {},
   "source": [
    "The __22,572 Airbnb listings__ in Berlin can be mapped to __33 different property types__, with __90% of all property types actually being apartments__. As I am mainly interested in apartments I am going to remove all listing with property types other than \"Apartment\"."
   ]
  },
  {
   "cell_type": "code",
   "execution_count": 140,
   "metadata": {},
   "outputs": [
    {
     "name": "stdout",
     "output_type": "stream",
     "text": [
      "2255 records were removed from the Airbnb Berlin listings data frame.\n"
     ]
    }
   ],
   "source": [
    "# Keep only apartments in analysis\n",
    "n_all = df_listings.shape[0]\n",
    "df_listings = df_listings[df_listings[\"property_type\"] == \"Apartment\"]\n",
    "print(\"{} records were removed from the Airbnb Berlin listings data frame.\".format(n_all - df_listings.shape[0]))"
   ]
  },
  {
   "cell_type": "markdown",
   "metadata": {},
   "source": [
    "Now that we've removed all property types other than apartments, it's time to __check for missing values__ in the columns that need to used for a popularity comparison of areas."
   ]
  },
  {
   "cell_type": "markdown",
   "metadata": {},
   "source": [
    "### 3.2 - Missing Values"
   ]
  },
  {
   "cell_type": "code",
   "execution_count": 164,
   "metadata": {},
   "outputs": [
    {
     "data": {
      "text/plain": [
       "neighbourhood_group_cleansed    0\n",
       "minimum_nights                  0\n",
       "reviews_per_month               0\n",
       "dtype: int64"
      ]
     },
     "execution_count": 164,
     "metadata": {},
     "output_type": "execute_result"
    }
   ],
   "source": [
    "# Check for missing values\n",
    "df_listings[[\"neighbourhood_group_cleansed\",\"minimum_nights\",\"reviews_per_month\"]].isnull().sum()"
   ]
  },
  {
   "cell_type": "markdown",
   "metadata": {},
   "source": [
    "It looks like the column __\"reviews_per_month\"__ has __missing values__. If a listing has never received any reviews before than we should probably set the value for \"reviews_per_month\" to 0."
   ]
  },
  {
   "cell_type": "code",
   "execution_count": 165,
   "metadata": {},
   "outputs": [
    {
     "data": {
      "text/plain": [
       "reviews_per_month    0\n",
       "dtype: int64"
      ]
     },
     "execution_count": 165,
     "metadata": {},
     "output_type": "execute_result"
    }
   ],
   "source": [
    "# Impute missing values\n",
    "df_listings[\"reviews_per_month\"] = df_listings[\"reviews_per_month\"].fillna(0)\n",
    "\n",
    "# Check for missing values\n",
    "df_listings[[\"reviews_per_month\"]].isnull().sum()"
   ]
  },
  {
   "cell_type": "markdown",
   "metadata": {},
   "source": [
    "The column \"neighbourhood_group_cleansed\" stores information on the area a listing is located in. Let's look at it's values:"
   ]
  },
  {
   "cell_type": "markdown",
   "metadata": {},
   "source": [
    "### 3.3 - Neighbourhoods"
   ]
  },
  {
   "cell_type": "code",
   "execution_count": 143,
   "metadata": {},
   "outputs": [
    {
     "name": "stdout",
     "output_type": "stream",
     "text": [
      "Friedrichshain-Kreuzberg    0.252252\n",
      "Mitte                       0.203918\n",
      "Neukölln                    0.163853\n",
      "Pankow                      0.158045\n",
      "Charlottenburg-Wilm.        0.069055\n",
      "Tempelhof - Schöneberg      0.068120\n",
      "Lichtenberg                 0.028105\n",
      "Treptow - Köpenick          0.023527\n",
      "Steglitz - Zehlendorf       0.016489\n",
      "Reinickendorf               0.009992\n",
      "Spandau                     0.003741\n",
      "Marzahn - Hellersdorf       0.002904\n",
      "Name: neighbourhood_group_cleansed, dtype: float64\n",
      "\n",
      "There are 12 unique neighbourhood groups types within the data set.\n"
     ]
    }
   ],
   "source": [
    "# Check distriution of neighbourhood groups\n",
    "hood_count = df_listings[\"neighbourhood_group_cleansed\"].value_counts().sum()\n",
    "print((df_listings[\"neighbourhood_group_cleansed\"].value_counts().sort_values(ascending=False) / hood_count))\n",
    "\n",
    "# Number of unique neighbourhood groups\n",
    "print(\"\\nThere are {} unique neighbourhood groups types within the data set.\".format(len(df_listings[\"neighbourhood_group_cleansed\"].unique())))"
   ]
  },
  {
   "cell_type": "markdown",
   "metadata": {},
   "source": [
    "The __22,572 Airbnb listings__ are located in __12 different neighbourhood groups, with __23% of all listings actually being in Friedrichshain-Kreuzberg__. I'm not too happy with the text formatting of values so I'm going to adjust it slighty."
   ]
  },
  {
   "cell_type": "code",
   "execution_count": 144,
   "metadata": {},
   "outputs": [],
   "source": [
    "# Adjust values of \"neighbourhood_group_cleansed\"\n",
    "df_listings[\"neighbourhood_group_cleansed\"] = df_listings[\"neighbourhood_group_cleansed\"].astype(str).str.replace(\"Charlottenburg-Wilm.\", \"Charlottenburg-Wilmersdorf\")\n",
    "df_listings[\"neighbourhood_group_cleansed\"] = df_listings[\"neighbourhood_group_cleansed\"].astype(str).str.replace(\" \", \"\")"
   ]
  },
  {
   "cell_type": "markdown",
   "metadata": {},
   "source": [
    "## 4 - Model Data"
   ]
  },
  {
   "cell_type": "markdown",
   "metadata": {},
   "source": [
    "The analysis of an area's popularity on Airbnb is focused around __two main features__, namely the number of apartments in a particular area as well as the occupancy of individual apartments. Unfortunately, the data set doesn't provide all this information for us ready to use. Thus, we need to come up with __a way to model the data__."
   ]
  },
  {
   "cell_type": "markdown",
   "metadata": {},
   "source": [
    "### 4.1 - Number of Apartments"
   ]
  },
  {
   "cell_type": "code",
   "execution_count": 145,
   "metadata": {},
   "outputs": [
    {
     "data": {
      "text/html": [
       "<div>\n",
       "<style scoped>\n",
       "    .dataframe tbody tr th:only-of-type {\n",
       "        vertical-align: middle;\n",
       "    }\n",
       "\n",
       "    .dataframe tbody tr th {\n",
       "        vertical-align: top;\n",
       "    }\n",
       "\n",
       "    .dataframe thead th {\n",
       "        text-align: right;\n",
       "    }\n",
       "</style>\n",
       "<table border=\"1\" class=\"dataframe\">\n",
       "  <thead>\n",
       "    <tr style=\"text-align: right;\">\n",
       "      <th></th>\n",
       "      <th>neighbourhood_group</th>\n",
       "      <th>num_listings</th>\n",
       "    </tr>\n",
       "  </thead>\n",
       "  <tbody>\n",
       "    <tr>\n",
       "      <th>0</th>\n",
       "      <td>Charlottenburg-Wilmersdorf</td>\n",
       "      <td>1403</td>\n",
       "    </tr>\n",
       "    <tr>\n",
       "      <th>1</th>\n",
       "      <td>Friedrichshain-Kreuzberg</td>\n",
       "      <td>5125</td>\n",
       "    </tr>\n",
       "    <tr>\n",
       "      <th>2</th>\n",
       "      <td>Lichtenberg</td>\n",
       "      <td>571</td>\n",
       "    </tr>\n",
       "    <tr>\n",
       "      <th>3</th>\n",
       "      <td>Marzahn-Hellersdorf</td>\n",
       "      <td>59</td>\n",
       "    </tr>\n",
       "    <tr>\n",
       "      <th>4</th>\n",
       "      <td>Mitte</td>\n",
       "      <td>4143</td>\n",
       "    </tr>\n",
       "  </tbody>\n",
       "</table>\n",
       "</div>"
      ],
      "text/plain": [
       "          neighbourhood_group  num_listings\n",
       "0  Charlottenburg-Wilmersdorf          1403\n",
       "1    Friedrichshain-Kreuzberg          5125\n",
       "2                 Lichtenberg           571\n",
       "3         Marzahn-Hellersdorf            59\n",
       "4                       Mitte          4143"
      ]
     },
     "execution_count": 145,
     "metadata": {},
     "output_type": "execute_result"
    }
   ],
   "source": [
    "# Number of listings / neighbourhood group\n",
    "hood_count = df_listings[[\"neighbourhood_group_cleansed\",\"id\"]]\n",
    "hood_count = hood_count.groupby(\"neighbourhood_group_cleansed\", as_index=False).agg(\"count\")\n",
    "hood_count.columns = [\"neighbourhood_group\", \"num_listings\"]\n",
    "hood_count.head()"
   ]
  },
  {
   "cell_type": "code",
   "execution_count": 146,
   "metadata": {},
   "outputs": [
    {
     "data": {
      "text/plain": [
       "1693.0833333333333"
      ]
     },
     "execution_count": 146,
     "metadata": {},
     "output_type": "execute_result"
    }
   ],
   "source": [
    "# Average listings count / neighbourhood\n",
    "hood_count[\"num_listings\"].mean()"
   ]
  },
  {
   "cell_type": "markdown",
   "metadata": {},
   "source": [
    "The number of apartments in each neighbourhood group can be easily calculated. On average there are __1,693 listings located in each of them__. However, neighbourhood groups with larger areas (measured in km2) tend to have more Airbnb listings and vice versa. Thus, we need to __account for the size of the area of a neighbourhood group__ when making comparisons on the number of listings."
   ]
  },
  {
   "cell_type": "code",
   "execution_count": 147,
   "metadata": {},
   "outputs": [
    {
     "data": {
      "text/html": [
       "<div>\n",
       "<style scoped>\n",
       "    .dataframe tbody tr th:only-of-type {\n",
       "        vertical-align: middle;\n",
       "    }\n",
       "\n",
       "    .dataframe tbody tr th {\n",
       "        vertical-align: top;\n",
       "    }\n",
       "\n",
       "    .dataframe thead th {\n",
       "        text-align: right;\n",
       "    }\n",
       "</style>\n",
       "<table border=\"1\" class=\"dataframe\">\n",
       "  <thead>\n",
       "    <tr style=\"text-align: right;\">\n",
       "      <th></th>\n",
       "      <th>neighbourhood_group</th>\n",
       "      <th>area_km2</th>\n",
       "    </tr>\n",
       "  </thead>\n",
       "  <tbody>\n",
       "    <tr>\n",
       "      <th>0</th>\n",
       "      <td>Charlottenburg-Wilmersdorf</td>\n",
       "      <td>103.01</td>\n",
       "    </tr>\n",
       "    <tr>\n",
       "      <th>1</th>\n",
       "      <td>Friedrichshain-Kreuzberg</td>\n",
       "      <td>20.16</td>\n",
       "    </tr>\n",
       "    <tr>\n",
       "      <th>2</th>\n",
       "      <td>Lichtenberg</td>\n",
       "      <td>52.29</td>\n",
       "    </tr>\n",
       "    <tr>\n",
       "      <th>3</th>\n",
       "      <td>Marzahn-Hellersdorf</td>\n",
       "      <td>61.74</td>\n",
       "    </tr>\n",
       "    <tr>\n",
       "      <th>4</th>\n",
       "      <td>Mitte</td>\n",
       "      <td>39.47</td>\n",
       "    </tr>\n",
       "  </tbody>\n",
       "</table>\n",
       "</div>"
      ],
      "text/plain": [
       "          neighbourhood_group  area_km2\n",
       "0  Charlottenburg-Wilmersdorf    103.01\n",
       "1    Friedrichshain-Kreuzberg     20.16\n",
       "2                 Lichtenberg     52.29\n",
       "3         Marzahn-Hellersdorf     61.74\n",
       "4                       Mitte     39.47"
      ]
     },
     "execution_count": 147,
     "metadata": {},
     "output_type": "execute_result"
    }
   ],
   "source": [
    "# Data frame with area in square kilometre / neighbourhood groups\n",
    "# Source: https://de.wikipedia.org/wiki/Liste_der_Bezirke_und_Ortsteile_Berlins\n",
    "hood_names = ['Pankow','Tempelhof-Schöneberg','Friedrichshain-Kreuzberg','Neukölln','Mitte','Charlottenburg-Wilmersdorf',\n",
    "              'Treptow-Köpenick','Lichtenberg','Reinickendorf','Steglitz-Zehlendorf','Marzahn-Hellersdorf','Spandau']\n",
    "hood_size = [103.01,53.09,20.16,44.93,39.47,103.01,168.42,52.29,89.46,102.50,61.74,91.91]\n",
    "hood_area = pd.DataFrame({\"neighbourhood_group\": hood_names, \"area_km2\": hood_size})\n",
    "hood_area = hood_area.sort_values(\"neighbourhood_group\").reset_index(drop=True)\n",
    "hood_area.head()"
   ]
  },
  {
   "cell_type": "code",
   "execution_count": 148,
   "metadata": {},
   "outputs": [],
   "source": [
    "# Add listing density to neighbourhood counts\n",
    "hood_count[\"num_listings_per_km2\"] = hood_count[\"num_listings\"] / hood_area[\"area_km2\"]"
   ]
  },
  {
   "cell_type": "markdown",
   "metadata": {},
   "source": [
    "### 4.2 - Occupancy"
   ]
  },
  {
   "cell_type": "markdown",
   "metadata": {},
   "source": [
    "Variables with direct influence on the occupancy of an Airbnb apartment are the duration and the frequency of bookings. Unfortunately, the data set doesn't have information on either of these. When we assume that people who book apartments on Airbnb always leave a review, we can simply use the column \"reviews_per_month\" as a proxy for booking frequency. I've also capped the booking frequency so it can't exceed the maximum number of bookings per month based on the minimum nights."
   ]
  },
  {
   "cell_type": "code",
   "execution_count": 151,
   "metadata": {},
   "outputs": [
    {
     "data": {
      "text/plain": [
       "count    20317.000000\n",
       "mean         0.885989\n",
       "std          1.337913\n",
       "min          0.000000\n",
       "25%          0.060000\n",
       "50%          0.330000\n",
       "75%          1.080000\n",
       "max         14.790000\n",
       "Name: bookings_per_month, dtype: float64"
      ]
     },
     "execution_count": 151,
     "metadata": {},
     "output_type": "execute_result"
    }
   ],
   "source": [
    "# Define adjusted proxy for number of bookings per months\n",
    "df_listings[\"max_bookings_per_month\"] = (30.42 / df_listings[\"minimum_nights\"]).fillna(0)\n",
    "df_listings[\"bookings_per_month\"] = df_listings[[\"max_bookings_per_month\",\"reviews_per_month\"]].min(axis=1)\n",
    "df_listings = df_listings.drop(\"max_bookings_per_month\", axis=1)\n",
    "\n",
    "df_listings[\"bookings_per_month\"].describe()"
   ]
  },
  {
   "cell_type": "markdown",
   "metadata": {},
   "source": [
    "Based on the previously adjusted booking frequency we can now calculate the occupancy. This relies on the assumption that each booking spans for a minimum/maximum period equal to the number of minimum nights."
   ]
  },
  {
   "cell_type": "code",
   "execution_count": 152,
   "metadata": {},
   "outputs": [
    {
     "data": {
      "text/plain": [
       "count    20317.000000\n",
       "mean         0.091688\n",
       "std          0.160096\n",
       "min          0.000000\n",
       "25%          0.005260\n",
       "50%          0.032873\n",
       "75%          0.106509\n",
       "max          1.000000\n",
       "Name: occupancy_rate, dtype: float64"
      ]
     },
     "execution_count": 152,
     "metadata": {},
     "output_type": "execute_result"
    }
   ],
   "source": [
    "# Calculate the monthly occupancy rate for each listing\n",
    "df_listings[\"occupancy_rate\"] = (df_listings[\"bookings_per_month\"] * df_listings[\"minimum_nights\"] / 30.42).fillna(0)\n",
    "df_listings[\"occupancy_rate\"].describe()"
   ]
  },
  {
   "cell_type": "code",
   "execution_count": 166,
   "metadata": {},
   "outputs": [],
   "source": [
    "# Create data frame with occupancy rate and listing density for each neighbourhood\n",
    "# Grouping functions\n",
    "f = {\"id\":[\"count\"], \"occupancy_rate\":[\"mean\"]}\n",
    "\n",
    "# Grouping data\n",
    "hood_occupancy = df_listings[[\"neighbourhood_group_cleansed\",\"id\",\"occupancy_rate\"]]\n",
    "hood_occupancy = hood_occupancy.groupby(\"neighbourhood_group_cleansed\", as_index=False).agg(f)\n",
    "hood_occupancy.columns = [\"neighbourhood_group\", \"num_listings\", \"occupancy_rate\"]\n",
    "hood_occupancy = hood_occupancy.sort_values(\"neighbourhood_group\")\n",
    "\n",
    "# Calculate density\n",
    "hood_occupancy[\"area_km2\"] = hood_area[\"area_km2\"]\n",
    "hood_occupancy[\"listings_per_km2\"] = hood_occupancy[\"num_listings\"] / hood_occupancy[\"area_km2\"]"
   ]
  },
  {
   "cell_type": "markdown",
   "metadata": {},
   "source": [
    "## 5 - Analyze Data & Evaluate Results"
   ]
  },
  {
   "cell_type": "markdown",
   "metadata": {},
   "source": [
    "### 5.1 - Number of Apartments"
   ]
  },
  {
   "cell_type": "code",
   "execution_count": 150,
   "metadata": {},
   "outputs": [
    {
     "data": {
      "image/png": "[encoded data removed]",
      "text/plain": [
       "<Figure size 864x576 with 1 Axes>"
      ]
     },
     "metadata": {},
     "output_type": "display_data"
    }
   ],
   "source": [
    "# Plot listing frequency / neighbourhood group \n",
    "plt.subplots(figsize=(12,8))\n",
    "sns.set(style=\"darkgrid\")\n",
    "ax = sns.barplot(x=\"neighbourhood_group\", y=\"num_listings_per_km2\", data=hood_count)\n",
    "plt.xticks(rotation=90);\n",
    "plt.title(\"Number of Listings / Neighbourhood\", fontsize=20)\n",
    "plt.ylabel(\"# Listings\", fontsize=15)\n",
    "plt.xlabel(\"Neighbourhood\", fontsize=15)\n",
    "plt.tight_layout()\n",
    "\n",
    "# Add median as reference line\n",
    "ax.axhline(hood_count[\"num_listings_per_km2\"].mean(), ls='--');"
   ]
  },
  {
   "cell_type": "markdown",
   "metadata": {},
   "source": [
    "### 5.2 - Occupancy"
   ]
  },
  {
   "cell_type": "code",
   "execution_count": 162,
   "metadata": {},
   "outputs": [
    {
     "data": {
      "image/png": "[encoded data removed]",
      "text/plain": [
       "<Figure size 864x576 with 1 Axes>"
      ]
     },
     "metadata": {},
     "output_type": "display_data"
    }
   ],
   "source": [
    "# Plot occupancy rate / neihbourhood group\n",
    "plt.subplots(figsize=(12,8))\n",
    "sns.set(style=\"darkgrid\")\n",
    "ax = sns.barplot(x=\"neighbourhood_group\", y=\"occupancy_rate\", data=hood_occupancy)\n",
    "plt.xticks(rotation=90);\n",
    "plt.title(\"Popularity / Neighbourhood\", fontsize=20)\n",
    "plt.ylabel(\"Popularity Score\", fontsize=15)\n",
    "plt.xlabel(\"Neighbourhood\", fontsize=15)\n",
    "plt.tight_layout()\n",
    "\n",
    "# Add median as reference line\n",
    "ax.axhline(hood_occupancy [\"occupancy_rate\"].mean(), ls='--');"
   ]
  },
  {
   "cell_type": "markdown",
   "metadata": {},
   "source": [
    "### 5.3 - Popularity"
   ]
  },
  {
   "cell_type": "code",
   "execution_count": 163,
   "metadata": {},
   "outputs": [
    {
     "data": {
      "image/png": "[encoded data removed]",
      "text/plain": [
       "<Figure size 694.125x432 with 1 Axes>"
      ]
     },
     "metadata": {},
     "output_type": "display_data"
    }
   ],
   "source": [
    "# Plot occupancy vs. listing count per square kilometre for neighbourhood groups\n",
    "sns.set(style=\"darkgrid\")\n",
    "p = sns.lmplot(\"listings_per_km2\", \"occupancy_rate\", data=hood_occupancy,\n",
    "               hue=\"neighbourhood_group\", fit_reg=False,\n",
    "               height=6, aspect=1.2, scatter_kws={\"s\": 250})\n",
    "\n",
    "# Add median as reference line\n",
    "plt.axhline(hood_occupancy[\"occupancy_rate\"].mean(), ls='--');\n",
    "plt.axvline(hood_occupancy[\"listings_per_km2\"].mean(), ls='--');\n",
    "\n",
    "# Set labels\n",
    "plt.title(\"Popularity of Airbnb Listings Across Berlin Neighbourhood Groups\", fontsize=20)\n",
    "plt.ylabel(\"Occupancy Rate\", fontsize=15)\n",
    "plt.xlabel(\"Number of Listings Per Square Kilometre\", fontsize=15)\n",
    "p._legend.set_title(\"Neighbourhood Groups\")\n",
    "plt.setp(p._legend.get_title(), fontsize=15);"
   ]
  },
  {
   "cell_type": "code",
   "execution_count": null,
   "metadata": {},
   "outputs": [],
   "source": []
  }
 ],
 "metadata": {
  "kernelspec": {
   "display_name": "Python [conda env:miniconda3]",
   "language": "python",
   "name": "conda-env-miniconda3-py"
  },
  "language_info": {
   "codemirror_mode": {
    "name": "ipython",
    "version": 3
   },
   "file_extension": ".py",
   "mimetype": "text/x-python",
   "name": "python",
   "nbconvert_exporter": "python",
   "pygments_lexer": "ipython3",
   "version": "3.6.5"
  }
 },
 "nbformat": 4,
 "nbformat_minor": 2
}
