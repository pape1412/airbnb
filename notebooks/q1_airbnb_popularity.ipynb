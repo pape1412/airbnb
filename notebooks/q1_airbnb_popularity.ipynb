{
 "cells": [
  {
   "cell_type": "markdown",
   "metadata": {},
   "source": [
    "# Question 1: How do Airbnb rates differ across listings from Berlin?\n",
    "The first question around the Airbnb Berlin data set is about the differences of rates per night and person for Airbnb homes in the city. The steps involved in answering the question are as follows:\n",
    "* Load Libraries\n",
    "* Import Data Set\n",
    "* Pre-Processing\n",
    "* Analyze Data Set & Evaluate Results"
   ]
  },
  {
   "cell_type": "markdown",
   "metadata": {},
   "source": [
    "## Load Libraries"
   ]
  },
  {
   "cell_type": "code",
   "execution_count": 120,
   "metadata": {},
   "outputs": [],
   "source": [
    "import numpy as np\n",
    "import pandas as pd\n",
    "import matplotlib.pyplot as plt\n",
    "import seaborn as sns\n",
    "\n",
    "%matplotlib inline"
   ]
  },
  {
   "cell_type": "markdown",
   "metadata": {},
   "source": [
    "## Import Data Set"
   ]
  },
  {
   "cell_type": "code",
   "execution_count": 121,
   "metadata": {},
   "outputs": [
    {
     "name": "stdout",
     "output_type": "stream",
     "text": [
      "(22572, 96)\n"
     ]
    },
    {
     "data": {
      "text/html": [
       "<div>\n",
       "<style scoped>\n",
       "    .dataframe tbody tr th:only-of-type {\n",
       "        vertical-align: middle;\n",
       "    }\n",
       "\n",
       "    .dataframe tbody tr th {\n",
       "        vertical-align: top;\n",
       "    }\n",
       "\n",
       "    .dataframe thead th {\n",
       "        text-align: right;\n",
       "    }\n",
       "</style>\n",
       "<table border=\"1\" class=\"dataframe\">\n",
       "  <thead>\n",
       "    <tr style=\"text-align: right;\">\n",
       "      <th></th>\n",
       "      <th>id</th>\n",
       "      <th>listing_url</th>\n",
       "      <th>scrape_id</th>\n",
       "      <th>last_scraped</th>\n",
       "      <th>name</th>\n",
       "      <th>summary</th>\n",
       "      <th>space</th>\n",
       "      <th>description</th>\n",
       "      <th>experiences_offered</th>\n",
       "      <th>neighborhood_overview</th>\n",
       "      <th>notes</th>\n",
       "      <th>transit</th>\n",
       "      <th>access</th>\n",
       "      <th>interaction</th>\n",
       "      <th>house_rules</th>\n",
       "      <th>thumbnail_url</th>\n",
       "      <th>medium_url</th>\n",
       "      <th>picture_url</th>\n",
       "      <th>xl_picture_url</th>\n",
       "      <th>host_id</th>\n",
       "      <th>host_url</th>\n",
       "      <th>host_name</th>\n",
       "      <th>host_since</th>\n",
       "      <th>host_location</th>\n",
       "      <th>host_about</th>\n",
       "      <th>host_response_time</th>\n",
       "      <th>host_response_rate</th>\n",
       "      <th>host_acceptance_rate</th>\n",
       "      <th>host_is_superhost</th>\n",
       "      <th>host_thumbnail_url</th>\n",
       "      <th>host_picture_url</th>\n",
       "      <th>host_neighbourhood</th>\n",
       "      <th>host_listings_count</th>\n",
       "      <th>host_total_listings_count</th>\n",
       "      <th>host_verifications</th>\n",
       "      <th>host_has_profile_pic</th>\n",
       "      <th>host_identity_verified</th>\n",
       "      <th>street</th>\n",
       "      <th>neighbourhood</th>\n",
       "      <th>neighbourhood_cleansed</th>\n",
       "      <th>neighbourhood_group_cleansed</th>\n",
       "      <th>city</th>\n",
       "      <th>state</th>\n",
       "      <th>zipcode</th>\n",
       "      <th>market</th>\n",
       "      <th>smart_location</th>\n",
       "      <th>country_code</th>\n",
       "      <th>country</th>\n",
       "      <th>latitude</th>\n",
       "      <th>longitude</th>\n",
       "      <th>is_location_exact</th>\n",
       "      <th>property_type</th>\n",
       "      <th>room_type</th>\n",
       "      <th>accommodates</th>\n",
       "      <th>bathrooms</th>\n",
       "      <th>bedrooms</th>\n",
       "      <th>beds</th>\n",
       "      <th>bed_type</th>\n",
       "      <th>amenities</th>\n",
       "      <th>square_feet</th>\n",
       "      <th>price</th>\n",
       "      <th>weekly_price</th>\n",
       "      <th>monthly_price</th>\n",
       "      <th>security_deposit</th>\n",
       "      <th>cleaning_fee</th>\n",
       "      <th>guests_included</th>\n",
       "      <th>extra_people</th>\n",
       "      <th>minimum_nights</th>\n",
       "      <th>maximum_nights</th>\n",
       "      <th>calendar_updated</th>\n",
       "      <th>has_availability</th>\n",
       "      <th>availability_30</th>\n",
       "      <th>availability_60</th>\n",
       "      <th>availability_90</th>\n",
       "      <th>availability_365</th>\n",
       "      <th>calendar_last_scraped</th>\n",
       "      <th>number_of_reviews</th>\n",
       "      <th>first_review</th>\n",
       "      <th>last_review</th>\n",
       "      <th>review_scores_rating</th>\n",
       "      <th>review_scores_accuracy</th>\n",
       "      <th>review_scores_cleanliness</th>\n",
       "      <th>review_scores_checkin</th>\n",
       "      <th>review_scores_communication</th>\n",
       "      <th>review_scores_location</th>\n",
       "      <th>review_scores_value</th>\n",
       "      <th>requires_license</th>\n",
       "      <th>license</th>\n",
       "      <th>jurisdiction_names</th>\n",
       "      <th>instant_bookable</th>\n",
       "      <th>is_business_travel_ready</th>\n",
       "      <th>cancellation_policy</th>\n",
       "      <th>require_guest_profile_picture</th>\n",
       "      <th>require_guest_phone_verification</th>\n",
       "      <th>calculated_host_listings_count</th>\n",
       "      <th>reviews_per_month</th>\n",
       "    </tr>\n",
       "  </thead>\n",
       "  <tbody>\n",
       "    <tr>\n",
       "      <th>0</th>\n",
       "      <td>2015</td>\n",
       "      <td>https://www.airbnb.com/rooms/2015</td>\n",
       "      <td>20180912025131</td>\n",
       "      <td>2018-09-12</td>\n",
       "      <td>Berlin-Mitte Value! Quiet courtyard/very central</td>\n",
       "      <td>Great location!  30 of 75 sq meters. This wood...</td>\n",
       "      <td>A+++ location! This „Einliegerwohnung“ is an e...</td>\n",
       "      <td>Great location!  30 of 75 sq meters. This wood...</td>\n",
       "      <td>none</td>\n",
       "      <td>It is located in the former East Berlin area o...</td>\n",
       "      <td>This is my home, not a hotel. I rent out occas...</td>\n",
       "      <td>Close to U-Bahn U8 and U2 (metro), Trams M12, ...</td>\n",
       "      <td>Simple kitchen/cooking, refrigerator, microwav...</td>\n",
       "      <td>Always available</td>\n",
       "      <td>No parties No events No pets No smoking, not e...</td>\n",
       "      <td>NaN</td>\n",
       "      <td>NaN</td>\n",
       "      <td>https://a0.muscache.com/im/pictures/260fd609-7...</td>\n",
       "      <td>NaN</td>\n",
       "      <td>2217</td>\n",
       "      <td>https://www.airbnb.com/users/show/2217</td>\n",
       "      <td>Ian</td>\n",
       "      <td>2008-08-18</td>\n",
       "      <td>Key Biscayne, Florida, United States</td>\n",
       "      <td>Believe in sharing economy.</td>\n",
       "      <td>within an hour</td>\n",
       "      <td>100%</td>\n",
       "      <td>NaN</td>\n",
       "      <td>t</td>\n",
       "      <td>https://a0.muscache.com/im/pictures/21428a22-4...</td>\n",
       "      <td>https://a0.muscache.com/im/pictures/21428a22-4...</td>\n",
       "      <td>Mitte</td>\n",
       "      <td>3.0</td>\n",
       "      <td>3.0</td>\n",
       "      <td>['email', 'phone', 'reviews', 'jumio', 'offlin...</td>\n",
       "      <td>t</td>\n",
       "      <td>t</td>\n",
       "      <td>Berlin, Berlin, Germany</td>\n",
       "      <td>Mitte</td>\n",
       "      <td>Brunnenstr. Süd</td>\n",
       "      <td>Mitte</td>\n",
       "      <td>Berlin</td>\n",
       "      <td>Berlin</td>\n",
       "      <td>10119</td>\n",
       "      <td>Berlin</td>\n",
       "      <td>Berlin, Germany</td>\n",
       "      <td>DE</td>\n",
       "      <td>Germany</td>\n",
       "      <td>52.534537</td>\n",
       "      <td>13.402557</td>\n",
       "      <td>f</td>\n",
       "      <td>Guesthouse</td>\n",
       "      <td>Entire home/apt</td>\n",
       "      <td>3</td>\n",
       "      <td>1.0</td>\n",
       "      <td>1.0</td>\n",
       "      <td>2.0</td>\n",
       "      <td>Real Bed</td>\n",
       "      <td>{TV,\"Cable TV\",Wifi,Kitchen,Gym,Heating,\"Famil...</td>\n",
       "      <td>NaN</td>\n",
       "      <td>$60.00</td>\n",
       "      <td>NaN</td>\n",
       "      <td>NaN</td>\n",
       "      <td>$200.00</td>\n",
       "      <td>$30.00</td>\n",
       "      <td>1</td>\n",
       "      <td>$28.00</td>\n",
       "      <td>4</td>\n",
       "      <td>1125</td>\n",
       "      <td>6 weeks ago</td>\n",
       "      <td>t</td>\n",
       "      <td>5</td>\n",
       "      <td>34</td>\n",
       "      <td>64</td>\n",
       "      <td>154</td>\n",
       "      <td>2018-09-12</td>\n",
       "      <td>109</td>\n",
       "      <td>2016-04-11</td>\n",
       "      <td>2018-09-08</td>\n",
       "      <td>92.0</td>\n",
       "      <td>9.0</td>\n",
       "      <td>9.0</td>\n",
       "      <td>10.0</td>\n",
       "      <td>10.0</td>\n",
       "      <td>10.0</td>\n",
       "      <td>9.0</td>\n",
       "      <td>t</td>\n",
       "      <td>NaN</td>\n",
       "      <td>NaN</td>\n",
       "      <td>f</td>\n",
       "      <td>f</td>\n",
       "      <td>strict_14_with_grace_period</td>\n",
       "      <td>f</td>\n",
       "      <td>f</td>\n",
       "      <td>3</td>\n",
       "      <td>3.69</td>\n",
       "    </tr>\n",
       "  </tbody>\n",
       "</table>\n",
       "</div>"
      ],
      "text/plain": [
       "     id                        listing_url       scrape_id last_scraped  \\\n",
       "0  2015  https://www.airbnb.com/rooms/2015  20180912025131   2018-09-12   \n",
       "\n",
       "                                               name  \\\n",
       "0  Berlin-Mitte Value! Quiet courtyard/very central   \n",
       "\n",
       "                                             summary  \\\n",
       "0  Great location!  30 of 75 sq meters. This wood...   \n",
       "\n",
       "                                               space  \\\n",
       "0  A+++ location! This „Einliegerwohnung“ is an e...   \n",
       "\n",
       "                                         description experiences_offered  \\\n",
       "0  Great location!  30 of 75 sq meters. This wood...                none   \n",
       "\n",
       "                               neighborhood_overview  \\\n",
       "0  It is located in the former East Berlin area o...   \n",
       "\n",
       "                                               notes  \\\n",
       "0  This is my home, not a hotel. I rent out occas...   \n",
       "\n",
       "                                             transit  \\\n",
       "0  Close to U-Bahn U8 and U2 (metro), Trams M12, ...   \n",
       "\n",
       "                                              access       interaction  \\\n",
       "0  Simple kitchen/cooking, refrigerator, microwav...  Always available   \n",
       "\n",
       "                                         house_rules  thumbnail_url  \\\n",
       "0  No parties No events No pets No smoking, not e...            NaN   \n",
       "\n",
       "   medium_url                                        picture_url  \\\n",
       "0         NaN  https://a0.muscache.com/im/pictures/260fd609-7...   \n",
       "\n",
       "   xl_picture_url  host_id                                host_url host_name  \\\n",
       "0             NaN     2217  https://www.airbnb.com/users/show/2217       Ian   \n",
       "\n",
       "   host_since                         host_location  \\\n",
       "0  2008-08-18  Key Biscayne, Florida, United States   \n",
       "\n",
       "                    host_about host_response_time host_response_rate  \\\n",
       "0  Believe in sharing economy.     within an hour               100%   \n",
       "\n",
       "   host_acceptance_rate host_is_superhost  \\\n",
       "0                   NaN                 t   \n",
       "\n",
       "                                  host_thumbnail_url  \\\n",
       "0  https://a0.muscache.com/im/pictures/21428a22-4...   \n",
       "\n",
       "                                    host_picture_url host_neighbourhood  \\\n",
       "0  https://a0.muscache.com/im/pictures/21428a22-4...              Mitte   \n",
       "\n",
       "   host_listings_count  host_total_listings_count  \\\n",
       "0                  3.0                        3.0   \n",
       "\n",
       "                                  host_verifications host_has_profile_pic  \\\n",
       "0  ['email', 'phone', 'reviews', 'jumio', 'offlin...                    t   \n",
       "\n",
       "  host_identity_verified                   street neighbourhood  \\\n",
       "0                      t  Berlin, Berlin, Germany         Mitte   \n",
       "\n",
       "  neighbourhood_cleansed neighbourhood_group_cleansed    city   state zipcode  \\\n",
       "0        Brunnenstr. Süd                        Mitte  Berlin  Berlin   10119   \n",
       "\n",
       "   market   smart_location country_code  country   latitude  longitude  \\\n",
       "0  Berlin  Berlin, Germany           DE  Germany  52.534537  13.402557   \n",
       "\n",
       "  is_location_exact property_type        room_type  accommodates  bathrooms  \\\n",
       "0                 f    Guesthouse  Entire home/apt             3        1.0   \n",
       "\n",
       "   bedrooms  beds  bed_type  \\\n",
       "0       1.0   2.0  Real Bed   \n",
       "\n",
       "                                           amenities  square_feet   price  \\\n",
       "0  {TV,\"Cable TV\",Wifi,Kitchen,Gym,Heating,\"Famil...          NaN  $60.00   \n",
       "\n",
       "  weekly_price monthly_price security_deposit cleaning_fee  guests_included  \\\n",
       "0          NaN           NaN          $200.00       $30.00                1   \n",
       "\n",
       "  extra_people  minimum_nights  maximum_nights calendar_updated  \\\n",
       "0       $28.00               4            1125      6 weeks ago   \n",
       "\n",
       "  has_availability  availability_30  availability_60  availability_90  \\\n",
       "0                t                5               34               64   \n",
       "\n",
       "   availability_365 calendar_last_scraped  number_of_reviews first_review  \\\n",
       "0               154            2018-09-12                109   2016-04-11   \n",
       "\n",
       "  last_review  review_scores_rating  review_scores_accuracy  \\\n",
       "0  2018-09-08                  92.0                     9.0   \n",
       "\n",
       "   review_scores_cleanliness  review_scores_checkin  \\\n",
       "0                        9.0                   10.0   \n",
       "\n",
       "   review_scores_communication  review_scores_location  review_scores_value  \\\n",
       "0                         10.0                    10.0                  9.0   \n",
       "\n",
       "  requires_license license  jurisdiction_names instant_bookable  \\\n",
       "0                t     NaN                 NaN                f   \n",
       "\n",
       "  is_business_travel_ready          cancellation_policy  \\\n",
       "0                        f  strict_14_with_grace_period   \n",
       "\n",
       "  require_guest_profile_picture require_guest_phone_verification  \\\n",
       "0                             f                                f   \n",
       "\n",
       "   calculated_host_listings_count  reviews_per_month  \n",
       "0                               3               3.69  "
      ]
     },
     "execution_count": 121,
     "metadata": {},
     "output_type": "execute_result"
    }
   ],
   "source": [
    "# Import listings data\n",
    "df_listings = pd.read_csv('/Users/patrick.peltier/Documents/Udacity Data Science Nanodegree/Data/Airbnb/listings_berlin.csv')\n",
    "\n",
    "# Preview data\n",
    "print(df_listings.shape)\n",
    "pd.options.display.max_columns = None\n",
    "df_listings.head(1)"
   ]
  },
  {
   "cell_type": "markdown",
   "metadata": {},
   "source": [
    "## Pre-Processing"
   ]
  },
  {
   "cell_type": "markdown",
   "metadata": {},
   "source": [
    "First of all, I am going to pre-process the data for the analysis as especially __columns including price information are encoded es objects__. In addition to this I introduce an __adjusted price variable__ as the current variable \"price\" doesn't consider cleaning fees or rates for additional guest. However, even though Berlin Airbnb homes can accommodate multiple guests most of the time, they only include one in their price. Before creating the new metric I have to __remove rows where the number of guests included is greater than the number of guest that can be accommodated__. I assume that these records contain false information."
   ]
  },
  {
   "cell_type": "code",
   "execution_count": 122,
   "metadata": {},
   "outputs": [
    {
     "data": {
      "text/plain": [
       "Apartment             20317\n",
       "Condominium             603\n",
       "Loft                    423\n",
       "House                   409\n",
       "Serviced apartment      191\n",
       "Name: property_type, dtype: int64"
      ]
     },
     "execution_count": 122,
     "metadata": {},
     "output_type": "execute_result"
    }
   ],
   "source": [
    "# Check distriutions of property types\n",
    "df_listings[\"property_type\"].value_counts().sort_values(ascending=False).head()"
   ]
  },
  {
   "cell_type": "code",
   "execution_count": 123,
   "metadata": {},
   "outputs": [
    {
     "name": "stdout",
     "output_type": "stream",
     "text": [
      "2255 records were removed from the Airbnb Berlin listings data frame.\n"
     ]
    }
   ],
   "source": [
    "# Keep only apartments in analysis\n",
    "n_all = df_listings.shape[0]\n",
    "df_listings = df_listings[df_listings[\"property_type\"] == \"Apartment\"]\n",
    "print(\"{} records were removed from the Airbnb Berlin listings data frame.\".format(n_all - df_listings.shape[0]))"
   ]
  },
  {
   "cell_type": "code",
   "execution_count": 124,
   "metadata": {},
   "outputs": [],
   "source": [
    "# Adjust values of \"neighbourhood_group_cleansed\" (needs to be in correct form for later use)\n",
    "df_listings[\"neighbourhood_group_cleansed\"] = df_listings[\"neighbourhood_group_cleansed\"].astype(str).str.replace(\"Charlottenburg-Wilm.\", \"Charlottenburg-Wilmersdorf\")\n",
    "df_listings[\"neighbourhood_group_cleansed\"] = df_listings[\"neighbourhood_group_cleansed\"].astype(str).str.replace(\" \", \"\")"
   ]
  },
  {
   "cell_type": "code",
   "execution_count": 150,
   "metadata": {},
   "outputs": [
    {
     "data": {
      "image/png": "[encoded data removed]",
      "text/plain": [
       "<Figure size 864x576 with 1 Axes>"
      ]
     },
     "metadata": {},
     "output_type": "display_data"
    }
   ],
   "source": [
    "# Number of listings / neighbourhood\n",
    "listings_neighbourhood = df_listings[[\"neighbourhood_group_cleansed\",\"id\"]]\n",
    "listings_neighbourhood = listings_neighbourhood.groupby(\"neighbourhood_group_cleansed\", as_index=False).agg(\"count\")\n",
    "listings_neighbourhood.columns = [\"neighbourhood_group\", \"num_listings\"]\n",
    "\n",
    "# Plot\n",
    "plt.subplots(figsize=(12,8))\n",
    "sns.set(style=\"darkgrid\")\n",
    "ax = sns.barplot(x=\"neighbourhood_group\", y=\"num_listings\", data=listings_neighbourhood)\n",
    "plt.xticks(rotation=90);\n",
    "plt.title(\"Number of Listings / Neighbourhood\", fontsize=20)\n",
    "plt.ylabel(\"# Listings\", fontsize=15)\n",
    "plt.xlabel(\"Neighbourhood\", fontsize=15)\n",
    "plt.tight_layout()\n",
    "\n",
    "# Add median as reference line\n",
    "ax.axhline(listings_neighbourhood[\"num_listings\"].mean(), ls='--');"
   ]
  },
  {
   "cell_type": "code",
   "execution_count": 126,
   "metadata": {},
   "outputs": [
    {
     "data": {
      "text/plain": [
       "count    20317.000000\n",
       "mean         0.885989\n",
       "std          1.337913\n",
       "min          0.000000\n",
       "25%          0.060000\n",
       "50%          0.330000\n",
       "75%          1.080000\n",
       "max         14.790000\n",
       "Name: bookings_per_month, dtype: float64"
      ]
     },
     "execution_count": 126,
     "metadata": {},
     "output_type": "execute_result"
    }
   ],
   "source": [
    "# Column \"reviews_per_month\" can only be used as proxy for booking frequency if\n",
    "# it doesn't exceed to the maximum monthly availability of each listing\n",
    "\n",
    "# Fill missing values with 0\n",
    "df_listings[\"reviews_per_month\"] = df_listings[\"reviews_per_month\"].fillna(0)\n",
    "\n",
    "# Define adjusted proxy for number of bookings per months\n",
    "df_listings[\"max_bookings_per_month\"] = (30.42 / df_listings[\"minimum_nights\"]).fillna(0)\n",
    "df_listings[\"bookings_per_month\"] = df_listings[[\"max_bookings_per_month\",\"reviews_per_month\"]].min(axis=1)\n",
    "df_listings = df_listings.drop(\"max_bookings_per_month\", axis=1)\n",
    "\n",
    "df_listings[\"bookings_per_month\"].describe()"
   ]
  },
  {
   "cell_type": "code",
   "execution_count": 127,
   "metadata": {},
   "outputs": [
    {
     "data": {
      "text/plain": [
       "count    20317.000000\n",
       "mean         0.091688\n",
       "std          0.160096\n",
       "min          0.000000\n",
       "25%          0.005260\n",
       "50%          0.032873\n",
       "75%          0.106509\n",
       "max          1.000000\n",
       "Name: occupancy_rate, dtype: float64"
      ]
     },
     "execution_count": 127,
     "metadata": {},
     "output_type": "execute_result"
    }
   ],
   "source": [
    "# Calculate the monthly occupancy rate for each listing\n",
    "df_listings[\"occupancy_rate\"] = (df_listings[\"bookings_per_month\"] * df_listings[\"minimum_nights\"] / 30.42).fillna(0)\n",
    "df_listings[\"occupancy_rate\"].describe()"
   ]
  },
  {
   "cell_type": "code",
   "execution_count": 128,
   "metadata": {},
   "outputs": [
    {
     "data": {
      "text/html": [
       "<div>\n",
       "<style scoped>\n",
       "    .dataframe tbody tr th:only-of-type {\n",
       "        vertical-align: middle;\n",
       "    }\n",
       "\n",
       "    .dataframe tbody tr th {\n",
       "        vertical-align: top;\n",
       "    }\n",
       "\n",
       "    .dataframe thead th {\n",
       "        text-align: right;\n",
       "    }\n",
       "</style>\n",
       "<table border=\"1\" class=\"dataframe\">\n",
       "  <thead>\n",
       "    <tr style=\"text-align: right;\">\n",
       "      <th></th>\n",
       "      <th>neighbourhood_group</th>\n",
       "      <th>area_km2</th>\n",
       "    </tr>\n",
       "  </thead>\n",
       "  <tbody>\n",
       "    <tr>\n",
       "      <th>0</th>\n",
       "      <td>Charlottenburg-Wilmersdorf</td>\n",
       "      <td>103.01</td>\n",
       "    </tr>\n",
       "    <tr>\n",
       "      <th>1</th>\n",
       "      <td>Friedrichshain-Kreuzberg</td>\n",
       "      <td>20.16</td>\n",
       "    </tr>\n",
       "    <tr>\n",
       "      <th>2</th>\n",
       "      <td>Lichtenberg</td>\n",
       "      <td>52.29</td>\n",
       "    </tr>\n",
       "    <tr>\n",
       "      <th>3</th>\n",
       "      <td>Marzahn-Hellersdorf</td>\n",
       "      <td>61.74</td>\n",
       "    </tr>\n",
       "    <tr>\n",
       "      <th>4</th>\n",
       "      <td>Mitte</td>\n",
       "      <td>39.47</td>\n",
       "    </tr>\n",
       "  </tbody>\n",
       "</table>\n",
       "</div>"
      ],
      "text/plain": [
       "          neighbourhood_group  area_km2\n",
       "0  Charlottenburg-Wilmersdorf    103.01\n",
       "1    Friedrichshain-Kreuzberg     20.16\n",
       "2                 Lichtenberg     52.29\n",
       "3         Marzahn-Hellersdorf     61.74\n",
       "4                       Mitte     39.47"
      ]
     },
     "execution_count": 128,
     "metadata": {},
     "output_type": "execute_result"
    }
   ],
   "source": [
    "# Create data frame with area in square kilometre of neighbourhood groups\n",
    "# Source: https://de.wikipedia.org/wiki/Liste_der_Bezirke_und_Ortsteile_Berlins\n",
    "hood_names = ['Pankow','Tempelhof-Schöneberg','Friedrichshain-Kreuzberg','Neukölln','Mitte','Charlottenburg-Wilmersdorf',\n",
    "              'Treptow-Köpenick','Lichtenberg','Reinickendorf','Steglitz-Zehlendorf','Marzahn-Hellersdorf','Spandau']\n",
    "hood_size = [103.01,53.09,20.16,44.93,39.47,103.01,168.42,52.29,89.46,102.50,61.74,91.91]\n",
    "hood_area = pd.DataFrame({\"neighbourhood_group\": hood_names, \"area_km2\": hood_size})\n",
    "hood_area = hood_area.sort_values(\"neighbourhood_group\").reset_index(drop=True)\n",
    "hood_area.head()"
   ]
  },
  {
   "cell_type": "code",
   "execution_count": 131,
   "metadata": {},
   "outputs": [],
   "source": [
    "# Create data frame with occupancy rate and listing density for each neighbourhood\n",
    "# Grouping functions\n",
    "f = {\"id\":[\"count\"], \"occupancy_rate\":[\"mean\"], \"review_scores_rating\":[\"mean\"]}\n",
    "\n",
    "# Grouping data\n",
    "hood_popularity = df_listings[[\"neighbourhood_group_cleansed\",\"id\",\"occupancy_rate\",\"review_scores_rating\"]]\n",
    "hood_popularity = hood_popularity.groupby(\"neighbourhood_group_cleansed\", as_index=False).agg(f)\n",
    "hood_popularity.columns = [\"neighbourhood_group\", \"num_listings\", \"occupancy_rate\",\"review_scores_rating\"]\n",
    "hood_popularity = hood_popularity.sort_values(\"neighbourhood_group\")\n",
    "\n",
    "# Calculate density\n",
    "hood_popularity[\"area_km2\"] = hood_area[\"area_km2\"]\n",
    "hood_popularity[\"listings_per_km2\"] = hood_popularity[\"num_listings\"] / hood_popularity[\"area_km2\"]"
   ]
  },
  {
   "cell_type": "code",
   "execution_count": 148,
   "metadata": {},
   "outputs": [
    {
     "data": {
      "image/png": "[encoded data removed]",
      "text/plain": [
       "<Figure size 694.125x432 with 1 Axes>"
      ]
     },
     "metadata": {},
     "output_type": "display_data"
    }
   ],
   "source": [
    "# Plot occupancy vs. listings per square kilometre\n",
    "# Plot\n",
    "sns.set(style=\"darkgrid\")\n",
    "p = sns.lmplot(\"listings_per_km2\", \"occupancy_rate\", data=hood_popularity,\n",
    "               hue=\"neighbourhood_group\", fit_reg=False,\n",
    "               height=6, aspect=1.2, scatter_kws={\"s\": 250})\n",
    "\n",
    "# Add median as reference line\n",
    "plt.axhline(hood_popularity[\"occupancy_rate\"].mean(), ls='--');\n",
    "plt.axvline(hood_popularity[\"listings_per_km2\"].mean(), ls='--');\n",
    "\n",
    "# Set labels\n",
    "plt.title(\"Popularity of Airbnb Listings Across Berlin Neighbourhood Groups\", fontsize=20)\n",
    "plt.ylabel(\"Occupancy Rate\", fontsize=15)\n",
    "plt.xlabel(\"Number of Listings Per Square Kilometre\", fontsize=15)\n",
    "p._legend.set_title(\"Neighbourhood Groups\")\n",
    "plt.setp(p._legend.get_title(), fontsize=15);"
   ]
  },
  {
   "cell_type": "markdown",
   "metadata": {},
   "source": [
    "## Analyses"
   ]
  },
  {
   "cell_type": "code",
   "execution_count": null,
   "metadata": {},
   "outputs": [],
   "source": []
  }
 ],
 "metadata": {
  "kernelspec": {
   "display_name": "Python [conda env:miniconda3]",
   "language": "python",
   "name": "conda-env-miniconda3-py"
  },
  "language_info": {
   "codemirror_mode": {
    "name": "ipython",
    "version": 3
   },
   "file_extension": ".py",
   "mimetype": "text/x-python",
   "name": "python",
   "nbconvert_exporter": "python",
   "pygments_lexer": "ipython3",
   "version": "3.6.5"
  }
 },
 "nbformat": 4,
 "nbformat_minor": 2
}
